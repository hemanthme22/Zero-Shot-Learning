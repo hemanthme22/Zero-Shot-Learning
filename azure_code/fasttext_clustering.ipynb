{
 "cells": [
  {
   "cell_type": "code",
   "execution_count": 27,
   "metadata": {
    "scrolled": true
   },
   "outputs": [],
   "source": [
    "#! wget https://dl.fbaipublicfiles.com/fasttext/vectors-wiki/wiki.en.vec"
   ]
  },
  {
   "cell_type": "code",
   "execution_count": 33,
   "metadata": {},
   "outputs": [],
   "source": [
    "labels = open ('nounsFinal.txt', 'r+')\n",
    "lables_list = []\n",
    "for line in labels.readlines():\n",
    "    lables_list.append(line.split(' ')[0].rstrip())"
   ]
  },
  {
   "cell_type": "code",
   "execution_count": 34,
   "metadata": {},
   "outputs": [
    {
     "name": "stdout",
     "output_type": "stream",
     "text": [
      "399\n"
     ]
    }
   ],
   "source": [
    "print(len(lables_list))"
   ]
  },
  {
   "cell_type": "code",
   "execution_count": 30,
   "metadata": {},
   "outputs": [
    {
     "name": "stdout",
     "output_type": "stream",
     "text": [
      "school\n",
      "city\n",
      "film\n",
      "football\n",
      "music\n",
      "area\n",
      "game\n",
      "house\n",
      "company\n",
      "place\n",
      "country\n",
      "back\n",
      "church\n",
      "line\n",
      "image\n",
      "show\n",
      "town\n",
      "home\n",
      "member\n",
      "book\n",
      "station\n"
     ]
    }
   ],
   "source": [
    "def file_reader(file_name):\n",
    "    fastext = open(file_name, 'r+')\n",
    "    line = fastext.readline()\n",
    "    counter = 0\n",
    "    fastext_dict = {}\n",
    "\n",
    "    while line :\n",
    "        line = fastext.readline().split(\" \")\n",
    "       # print(line)\n",
    "        if line[0] in lables_list:\n",
    "            yield line       \n",
    "            print(line[0])\n",
    "            if counter == 399:\n",
    "               break\n",
    "            counter += 1\n",
    "    fastext.close()\n",
    "\n",
    "#fastext_dict[line[0]] = [float(el) for el in line[1:-1]]\n",
    "for line in file_reader('wiki.en.vec'):\n",
    "    # print(line)\n",
    "    fastext_dict[line[0]] = [float(el) for el in line[1:-1]]\n",
    "    "
   ]
  },
  {
   "cell_type": "code",
   "execution_count": null,
   "metadata": {},
   "outputs": [],
   "source": [
    "print(len(fastext_dict))"
   ]
  },
  {
   "cell_type": "code",
   "execution_count": 32,
   "metadata": {},
   "outputs": [],
   "source": [
    "from sklearn.cluster import KMeans\n",
    "import numpy as np\n",
    "import math\n",
    "X = []\n",
    "keys = []\n",
    "for k, v in fastext_dict.items():\n",
    "    #print(type(v[0]))\n",
    "    X.append(v)\n",
    "    keys.append(k)\n",
    "  #  print(k,v)\n",
    "    \n",
    "def cosine_similarity(v1, v2):\n",
    "    sumxx, sumxy, sumyy = 0, 0, 0\n",
    "    for i in range(len(v1)):\n",
    "        x = v1[i]; y = v2[i]\n",
    "        sumxx += x*x\n",
    "        sumyy += y*y\n",
    "        sumxy += x*y\n",
    "    return sumxy/math.sqrt(sumxx*sumyy)\n",
    "\n",
    "kClusterValues= [10,20]\n",
    "\n",
    "f = open(\"clusterCenters.txt\",'w')\n",
    "\n",
    "for k in kClusterValues:\n",
    "    \n",
    "    kmeans = KMeans(n_clusters=k, random_state=0).fit(X)\n",
    "    #print(kmeans.cluster_centers_)\n",
    "    #print(kmeans.labels_)\n",
    "    centroids  = kmeans.cluster_centers_  #means of shape [10,] \n",
    "    #for centroid in centroids:\n",
    "      #  print(centroid)\n",
    "    uniq_label = list(set(kmeans.labels_))\n",
    "    keyList = []\n",
    "    for index_label, label in enumerate(uniq_label):\n",
    "        maxSim = 0\n",
    "        maxIndex = -99\n",
    "        cluster = []\n",
    "        for index,label1 in enumerate(kmeans.labels_):\n",
    "\n",
    "            if label == label1:\n",
    "                cluster.append(keys[index])\n",
    "                if maxSim < cosine_similarity(X[index],centroids[index_label]):\n",
    "                   maxSim = cosine_similarity(X[index],centroids[index_label])\n",
    "                   maxIndex = index\n",
    "\n",
    "                   #print(maxIndex)\n",
    "                   #print(cosine_similarity(X[index],centroids[index_label]))\n",
    "        # print(keys[maxIndex])\n",
    "        keyList.append(keys[maxIndex])\n",
    "       # print(cluster)\n",
    "    strK = \"model\" + str(k) + \"  \" + \" \".join(keyList) +\"\\n\"\n",
    "    f.write(strK)\n",
    "    \n",
    "f.close()\n",
    "\n",
    "    \n",
    "    \n",
    "    "
   ]
  },
  {
   "cell_type": "code",
   "execution_count": null,
   "metadata": {},
   "outputs": [],
   "source": []
  }
 ],
 "metadata": {
  "kernelspec": {
   "display_name": "Python 3.6 - AzureML",
   "language": "python",
   "name": "python3-azureml"
  },
  "language_info": {
   "codemirror_mode": {
    "name": "ipython",
    "version": 3
   },
   "file_extension": ".py",
   "mimetype": "text/x-python",
   "name": "python",
   "nbconvert_exporter": "python",
   "pygments_lexer": "ipython3",
   "version": "3.6.8"
  }
 },
 "nbformat": 4,
 "nbformat_minor": 2
}
